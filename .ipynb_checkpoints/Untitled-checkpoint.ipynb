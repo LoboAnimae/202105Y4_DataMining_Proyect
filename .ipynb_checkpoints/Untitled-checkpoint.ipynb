{
 "cells": [
  {
   "cell_type": "code",
   "execution_count": 1,
   "id": "f76581e5",
   "metadata": {},
   "outputs": [
    {
     "name": "stdout",
     "output_type": "stream",
     "text": [
      "Collecting pandas\n",
      "  Downloading pandas-1.2.4-cp39-cp39-win_amd64.whl (9.3 MB)\n",
      "Collecting numpy\n",
      "  Downloading numpy-1.20.2-cp39-cp39-win_amd64.whl (13.7 MB)\n",
      "Collecting seaborn\n",
      "  Using cached seaborn-0.11.1-py3-none-any.whl (285 kB)\n",
      "Collecting scikit-learn\n",
      "  Downloading scikit_learn-0.24.2-cp39-cp39-win_amd64.whl (6.9 MB)\n",
      "Collecting matplotlib\n",
      "  Downloading matplotlib-3.4.1-cp39-cp39-win_amd64.whl (7.1 MB)\n",
      "Collecting cycler>=0.10\n",
      "  Using cached cycler-0.10.0-py2.py3-none-any.whl (6.5 kB)\n",
      "Collecting pillow>=6.2.0\n",
      "  Downloading Pillow-8.2.0-cp39-cp39-win_amd64.whl (2.2 MB)\n",
      "Requirement already satisfied: pyparsing>=2.2.1 in c:\\programdata\\anaconda3\\envs\\dataminingenv\\lib\\site-packages (from matplotlib) (2.4.7)\n",
      "Collecting kiwisolver>=1.0.1\n",
      "  Using cached kiwisolver-1.3.1-cp39-cp39-win_amd64.whl (51 kB)\n",
      "Requirement already satisfied: python-dateutil>=2.7 in c:\\programdata\\anaconda3\\envs\\dataminingenv\\lib\\site-packages (from matplotlib) (2.8.1)\n",
      "Requirement already satisfied: six in c:\\programdata\\anaconda3\\envs\\dataminingenv\\lib\\site-packages (from cycler>=0.10->matplotlib) (1.15.0)\n",
      "Collecting pytz>=2017.3\n",
      "  Using cached pytz-2021.1-py2.py3-none-any.whl (510 kB)\n",
      "Collecting joblib>=0.11\n",
      "  Using cached joblib-1.0.1-py3-none-any.whl (303 kB)\n",
      "Collecting threadpoolctl>=2.0.0\n",
      "  Using cached threadpoolctl-2.1.0-py3-none-any.whl (12 kB)\n",
      "Collecting scipy>=0.19.1\n",
      "  Downloading scipy-1.6.3-cp39-cp39-win_amd64.whl (32.7 MB)\n",
      "Installing collected packages: pytz, pillow, numpy, kiwisolver, cycler, threadpoolctl, scipy, pandas, matplotlib, joblib, seaborn, scikit-learn\n",
      "Successfully installed cycler-0.10.0 joblib-1.0.1 kiwisolver-1.3.1 matplotlib-3.4.1 numpy-1.20.2 pandas-1.2.4 pillow-8.2.0 pytz-2021.1 scikit-learn-0.24.2 scipy-1.6.3 seaborn-0.11.1 threadpoolctl-2.1.0\n"
     ]
    }
   ],
   "source": [
    "!pip install pandas numpy seaborn scikit-learn matplotlib"
   ]
  },
  {
   "cell_type": "code",
   "execution_count": 2,
   "id": "817d82a5",
   "metadata": {},
   "outputs": [],
   "source": [
    "import pandas as pd\n",
    "import numpy as np\n",
    "import matplotlib.pyplot as plt"
   ]
  },
  {
   "cell_type": "markdown",
   "id": "38a0d8c4",
   "metadata": {},
   "source": [
    "## Import the Dataset"
   ]
  },
  {
   "cell_type": "code",
   "execution_count": 4,
   "id": "01eef8e9",
   "metadata": {},
   "outputs": [],
   "source": [
    "dataset = pd.read_csv('./Train.csv')"
   ]
  },
  {
   "cell_type": "code",
   "execution_count": 8,
   "id": "64478591",
   "metadata": {},
   "outputs": [
    {
     "data": {
      "text/plain": [
       "Index(['ID', 'Warehouse_block', 'Mode_of_Shipment', 'Customer_care_calls',\n",
       "       'Customer_rating', 'Cost_of_the_Product', 'Prior_purchases',\n",
       "       'Product_importance', 'Gender', 'Discount_offered', 'Weight_in_gms',\n",
       "       'Reached.on.Time_Y.N'],\n",
       "      dtype='object')"
      ]
     },
     "execution_count": 8,
     "metadata": {},
     "output_type": "execute_result"
    }
   ],
   "source": [
    "dataset.columns"
   ]
  },
  {
   "cell_type": "code",
   "execution_count": 9,
   "id": "73b35f65",
   "metadata": {},
   "outputs": [],
   "source": [
    "dataset.columns = ['id', 'warehouse', 'shipment', 'customer_calls', 'customer_rating', 'cost', 'prior_purchases', 'importance', 'gender','discount','weight', 'ontime']"
   ]
  },
  {
   "cell_type": "code",
   "execution_count": 11,
   "id": "ae230b03",
   "metadata": {},
   "outputs": [
    {
     "data": {
      "text/plain": [
       "Index(['id', 'warehouse', 'shipment', 'customer_calls', 'customer_rating',\n",
       "       'cost', 'prior_purchases', 'importance', 'gender', 'discount', 'weight',\n",
       "       'ontime'],\n",
       "      dtype='object')"
      ]
     },
     "execution_count": 11,
     "metadata": {},
     "output_type": "execute_result"
    }
   ],
   "source": [
    "dataset.columns"
   ]
  },
  {
   "cell_type": "code",
   "execution_count": 12,
   "id": "7557cdb6",
   "metadata": {},
   "outputs": [
    {
     "name": "stdout",
     "output_type": "stream",
     "text": [
      "<class 'pandas.core.frame.DataFrame'>\n",
      "RangeIndex: 10999 entries, 0 to 10998\n",
      "Data columns (total 12 columns):\n",
      " #   Column           Non-Null Count  Dtype \n",
      "---  ------           --------------  ----- \n",
      " 0   id               10999 non-null  int64 \n",
      " 1   warehouse        10999 non-null  object\n",
      " 2   shipment         10999 non-null  object\n",
      " 3   customer_calls   10999 non-null  int64 \n",
      " 4   customer_rating  10999 non-null  int64 \n",
      " 5   cost             10999 non-null  int64 \n",
      " 6   prior_purchases  10999 non-null  int64 \n",
      " 7   importance       10999 non-null  object\n",
      " 8   gender           10999 non-null  object\n",
      " 9   discount         10999 non-null  int64 \n",
      " 10  weight           10999 non-null  int64 \n",
      " 11  ontime           10999 non-null  int64 \n",
      "dtypes: int64(8), object(4)\n",
      "memory usage: 1.0+ MB\n"
     ]
    }
   ],
   "source": [
    "dataset.info()"
   ]
  },
  {
   "cell_type": "code",
   "execution_count": 13,
   "id": "bcee2986",
   "metadata": {},
   "outputs": [
    {
     "data": {
      "text/plain": [
       "<bound method NDFrame.head of           id warehouse shipment  customer_calls  customer_rating  cost  \\\n",
       "0          1         D   Flight               4                2   177   \n",
       "1          2         F   Flight               4                5   216   \n",
       "2          3         A   Flight               2                2   183   \n",
       "3          4         B   Flight               3                3   176   \n",
       "4          5         C   Flight               2                2   184   \n",
       "...      ...       ...      ...             ...              ...   ...   \n",
       "10994  10995         A     Ship               4                1   252   \n",
       "10995  10996         B     Ship               4                1   232   \n",
       "10996  10997         C     Ship               5                4   242   \n",
       "10997  10998         F     Ship               5                2   223   \n",
       "10998  10999         D     Ship               2                5   155   \n",
       "\n",
       "       prior_purchases importance gender  discount  weight  ontime  \n",
       "0                    3        low      F        44    1233       1  \n",
       "1                    2        low      M        59    3088       1  \n",
       "2                    4        low      M        48    3374       1  \n",
       "3                    4     medium      M        10    1177       1  \n",
       "4                    3     medium      F        46    2484       1  \n",
       "...                ...        ...    ...       ...     ...     ...  \n",
       "10994                5     medium      F         1    1538       1  \n",
       "10995                5     medium      F         6    1247       0  \n",
       "10996                5        low      F         4    1155       0  \n",
       "10997                6     medium      M         2    1210       0  \n",
       "10998                5        low      F         6    1639       0  \n",
       "\n",
       "[10999 rows x 12 columns]>"
      ]
     },
     "execution_count": 13,
     "metadata": {},
     "output_type": "execute_result"
    }
   ],
   "source": [
    "dataset.head"
   ]
  },
  {
   "cell_type": "code",
   "execution_count": 14,
   "id": "e826b724",
   "metadata": {
    "scrolled": true
   },
   "outputs": [
    {
     "data": {
      "text/html": [
       "<div>\n",
       "<style scoped>\n",
       "    .dataframe tbody tr th:only-of-type {\n",
       "        vertical-align: middle;\n",
       "    }\n",
       "\n",
       "    .dataframe tbody tr th {\n",
       "        vertical-align: top;\n",
       "    }\n",
       "\n",
       "    .dataframe thead th {\n",
       "        text-align: right;\n",
       "    }\n",
       "</style>\n",
       "<table border=\"1\" class=\"dataframe\">\n",
       "  <thead>\n",
       "    <tr style=\"text-align: right;\">\n",
       "      <th></th>\n",
       "      <th>id</th>\n",
       "      <th>customer_calls</th>\n",
       "      <th>customer_rating</th>\n",
       "      <th>cost</th>\n",
       "      <th>prior_purchases</th>\n",
       "      <th>discount</th>\n",
       "      <th>weight</th>\n",
       "      <th>ontime</th>\n",
       "    </tr>\n",
       "  </thead>\n",
       "  <tbody>\n",
       "    <tr>\n",
       "      <th>count</th>\n",
       "      <td>10999.00000</td>\n",
       "      <td>10999.000000</td>\n",
       "      <td>10999.000000</td>\n",
       "      <td>10999.000000</td>\n",
       "      <td>10999.000000</td>\n",
       "      <td>10999.000000</td>\n",
       "      <td>10999.000000</td>\n",
       "      <td>10999.000000</td>\n",
       "    </tr>\n",
       "    <tr>\n",
       "      <th>mean</th>\n",
       "      <td>5500.00000</td>\n",
       "      <td>4.054459</td>\n",
       "      <td>2.990545</td>\n",
       "      <td>210.196836</td>\n",
       "      <td>3.567597</td>\n",
       "      <td>13.373216</td>\n",
       "      <td>3634.016729</td>\n",
       "      <td>0.596691</td>\n",
       "    </tr>\n",
       "    <tr>\n",
       "      <th>std</th>\n",
       "      <td>3175.28214</td>\n",
       "      <td>1.141490</td>\n",
       "      <td>1.413603</td>\n",
       "      <td>48.063272</td>\n",
       "      <td>1.522860</td>\n",
       "      <td>16.205527</td>\n",
       "      <td>1635.377251</td>\n",
       "      <td>0.490584</td>\n",
       "    </tr>\n",
       "    <tr>\n",
       "      <th>min</th>\n",
       "      <td>1.00000</td>\n",
       "      <td>2.000000</td>\n",
       "      <td>1.000000</td>\n",
       "      <td>96.000000</td>\n",
       "      <td>2.000000</td>\n",
       "      <td>1.000000</td>\n",
       "      <td>1001.000000</td>\n",
       "      <td>0.000000</td>\n",
       "    </tr>\n",
       "    <tr>\n",
       "      <th>25%</th>\n",
       "      <td>2750.50000</td>\n",
       "      <td>3.000000</td>\n",
       "      <td>2.000000</td>\n",
       "      <td>169.000000</td>\n",
       "      <td>3.000000</td>\n",
       "      <td>4.000000</td>\n",
       "      <td>1839.500000</td>\n",
       "      <td>0.000000</td>\n",
       "    </tr>\n",
       "    <tr>\n",
       "      <th>50%</th>\n",
       "      <td>5500.00000</td>\n",
       "      <td>4.000000</td>\n",
       "      <td>3.000000</td>\n",
       "      <td>214.000000</td>\n",
       "      <td>3.000000</td>\n",
       "      <td>7.000000</td>\n",
       "      <td>4149.000000</td>\n",
       "      <td>1.000000</td>\n",
       "    </tr>\n",
       "    <tr>\n",
       "      <th>75%</th>\n",
       "      <td>8249.50000</td>\n",
       "      <td>5.000000</td>\n",
       "      <td>4.000000</td>\n",
       "      <td>251.000000</td>\n",
       "      <td>4.000000</td>\n",
       "      <td>10.000000</td>\n",
       "      <td>5050.000000</td>\n",
       "      <td>1.000000</td>\n",
       "    </tr>\n",
       "    <tr>\n",
       "      <th>max</th>\n",
       "      <td>10999.00000</td>\n",
       "      <td>7.000000</td>\n",
       "      <td>5.000000</td>\n",
       "      <td>310.000000</td>\n",
       "      <td>10.000000</td>\n",
       "      <td>65.000000</td>\n",
       "      <td>7846.000000</td>\n",
       "      <td>1.000000</td>\n",
       "    </tr>\n",
       "  </tbody>\n",
       "</table>\n",
       "</div>"
      ],
      "text/plain": [
       "                id  customer_calls  customer_rating          cost  \\\n",
       "count  10999.00000    10999.000000     10999.000000  10999.000000   \n",
       "mean    5500.00000        4.054459         2.990545    210.196836   \n",
       "std     3175.28214        1.141490         1.413603     48.063272   \n",
       "min        1.00000        2.000000         1.000000     96.000000   \n",
       "25%     2750.50000        3.000000         2.000000    169.000000   \n",
       "50%     5500.00000        4.000000         3.000000    214.000000   \n",
       "75%     8249.50000        5.000000         4.000000    251.000000   \n",
       "max    10999.00000        7.000000         5.000000    310.000000   \n",
       "\n",
       "       prior_purchases      discount        weight        ontime  \n",
       "count     10999.000000  10999.000000  10999.000000  10999.000000  \n",
       "mean          3.567597     13.373216   3634.016729      0.596691  \n",
       "std           1.522860     16.205527   1635.377251      0.490584  \n",
       "min           2.000000      1.000000   1001.000000      0.000000  \n",
       "25%           3.000000      4.000000   1839.500000      0.000000  \n",
       "50%           3.000000      7.000000   4149.000000      1.000000  \n",
       "75%           4.000000     10.000000   5050.000000      1.000000  \n",
       "max          10.000000     65.000000   7846.000000      1.000000  "
      ]
     },
     "execution_count": 14,
     "metadata": {},
     "output_type": "execute_result"
    }
   ],
   "source": [
    "dataset.describe()"
   ]
  },
  {
   "cell_type": "code",
   "execution_count": 16,
   "id": "0f7fe136",
   "metadata": {},
   "outputs": [
    {
     "data": {
      "text/plain": [
       "array([[<AxesSubplot:title={'center':'id'}>,\n",
       "        <AxesSubplot:title={'center':'customer_calls'}>,\n",
       "        <AxesSubplot:title={'center':'customer_rating'}>],\n",
       "       [<AxesSubplot:title={'center':'cost'}>,\n",
       "        <AxesSubplot:title={'center':'prior_purchases'}>,\n",
       "        <AxesSubplot:title={'center':'discount'}>],\n",
       "       [<AxesSubplot:title={'center':'weight'}>,\n",
       "        <AxesSubplot:title={'center':'ontime'}>, <AxesSubplot:>]],\n",
       "      dtype=object)"
      ]
     },
     "execution_count": 16,
     "metadata": {},
     "output_type": "execute_result"
    },
    {
     "data": {
      "image/png": "[encoded data removed]",
      "text/plain": [
       "<Figure size 432x288 with 9 Axes>"
      ]
     },
     "metadata": {
      "needs_background": "light"
     },
     "output_type": "display_data"
    }
   ],
   "source": [
    "dataset.hist()"
   ]
  }
 ],
 "metadata": {
  "kernelspec": {
   "display_name": "Python 3",
   "language": "python",
   "name": "python3"
  },
  "language_info": {
   "codemirror_mode": {
    "name": "ipython",
    "version": 3
   },
   "file_extension": ".py",
   "mimetype": "text/x-python",
   "name": "python",
   "nbconvert_exporter": "python",
   "pygments_lexer": "ipython3",
   "version": "3.9.4"
  }
 },
 "nbformat": 4,
 "nbformat_minor": 5
}
